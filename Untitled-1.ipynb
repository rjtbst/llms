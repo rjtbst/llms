{
 "cells": [
  {
   "cell_type": "code",
   "execution_count": 2,
   "id": "2da9debe",
   "metadata": {},
   "outputs": [
    {
     "name": "stdout",
     "output_type": "stream",
     "text": [
      "Raw response: {\"model\":\"llama3\",\"created_at\":\"2025-06-13T13:22:11.9821904Z\",\"response\":\"Generative AI, which includes techniques such as Generative Adversarial Networks (GANs), Variational Autoencoders (VAEs), and Recurrent Neural Networks (RNNs), has numerous applications across various industries. Some of the most significant areas where generative AI is making a significant impact include:\\n\\n1. **Computer Vision**:\\n\\t* Image generation: Generating realistic images, such as faces, objects, or scenes.\\n\\t* Image-to-image translation: Converting one image to another (e.g., daytime to nighttime).\\n\\t* Style transfer: Transferring the style of one image to another (e.g., painting to photography).\\n2. **Natural Language Processing (NLP)**:\\n\\t* Text generation: Generating text, such as articles, news stories, or chatbot responses.\\n\\t* Sentiment analysis: Predicting emotions and sentiment in text data.\\n\\t* Language translation: Translating text from one language to another.\\n3. **Audio Generation**:\\n\\t* Music generation: Creating original music or modifying existing songs.\\n\\t* Speech synthesis: Generating human-like speech.\\n\\t* Audio-to-audio translation: Converting audio from one format to another (e.g., MP3 to WAV).\\n4. **Data Augmentation**:\\n\\t* Data augmentation for computer vision and NLP tasks, such as generating synthetic data for training models.\\n5. **Creative Industries**:\\n\\t* Digital art: Generating art, such as paintings or sculptures, that can be sold or used in advertising.\\n\\t* Music composition: Creating original music for films, TV shows, or commercials.\\n6. **Healthcare**:\\n\\t* Medical imaging analysis: Analyzing medical images (e.g., MRI, CT scans) to identify patterns and abnormalities.\\n\\t* Patient data generation: Generating synthetic patient data for training machine learning models in healthcare.\\n7. **Finance**:\\n\\t* Financial forecasting: Predicting stock prices or market trends.\\n\\t* Fraud detection: Detecting fraudulent transactions using generative AI-powered models.\\n8. **Education**:\\n\\t* Personalized learning systems: Generating customized educational content for students based on their performance and preferences.\\n\\t* Language learning: Creating interactive language learning tools that can engage learners in a more effective way.\\n9. **Gaming**:\\n\\t* Game development: Using generative AI to generate game assets, such as characters, levels, or storylines.\\n\\t* Game mechanics generation: Generating game mechanics, like physics engines or AI opponents, for realistic gameplay.\\n10. **Social Media and Marketing**:\\n\\t* Content generation: Creating engaging social media content, such as videos, images, or text posts.\\n\\t* Social media sentiment analysis: Analyzing social media sentiment to understand public opinion about a brand or product.\\n\\nThese applications are just the beginning, and as generative AI continues to evolve, we can expect even more innovative uses across various industries.\",\"done\":true,\"done_reason\":\"stop\",\"context\":[128006,882,128007,271,3923,527,279,8522,315,1803,1413,15592,30,128009,128006,78191,128007,271,5648,1413,15592,11,902,5764,12823,1778,439,2672,1413,2467,3078,43821,39810,320,59587,82,705,28968,1697,9156,967,53598,320,13114,17812,705,323,4158,963,61577,39810,320,49,9944,82,705,706,12387,8522,4028,5370,19647,13,4427,315,279,1455,5199,5789,1405,1803,1413,15592,374,3339,264,5199,5536,2997,1473,16,13,3146,38432,31541,334,512,197,9,4758,9659,25,97554,26569,5448,11,1778,439,12580,11,6302,11,477,16451,627,197,9,4758,4791,14064,14807,25,1221,50517,832,2217,311,2500,320,68,1326,2637,62182,311,93744,4390,197,9,12179,8481,25,4149,69,14782,279,1742,315,832,2217,311,2500,320,68,1326,2637,19354,311,24685,4390,17,13,3146,55381,11688,29225,320,45,12852,33395,512,197,9,2991,9659,25,97554,1495,11,1778,439,9908,11,3754,7493,11,477,6369,6465,14847,627,197,9,24248,3904,6492,25,33810,287,21958,323,27065,304,1495,828,627,197,9,11688,14807,25,4149,75,1113,1495,505,832,4221,311,2500,627,18,13,3146,15097,24367,334,512,197,9,10948,9659,25,32406,4113,4731,477,47141,6484,11936,627,197,9,39841,39975,25,97554,3823,12970,8982,627,197,9,12632,4791,7561,3310,14807,25,1221,50517,7855,505,832,3645,311,2500,320,68,1326,2637,9599,18,311,89430,4390,19,13,3146,1061,5033,32199,334,512,197,9,2956,79885,369,6500,11376,323,452,12852,9256,11,1778,439,24038,28367,828,369,4967,4211,627,20,13,3146,64046,37528,334,512,197,9,14434,1989,25,97554,1989,11,1778,439,36692,477,75973,11,430,649,387,6216,477,1511,304,13172,627,197,9,10948,18528,25,32406,4113,4731,369,12631,11,6007,5039,11,477,63595,627,21,13,3146,14884,10727,334,512,197,9,13235,32758,6492,25,38527,20994,6593,5448,320,68,1326,2637,52460,11,19084,43739,8,311,10765,12912,323,75815,627,197,9,30024,828,9659,25,97554,28367,8893,828,369,4967,5780,6975,4211,304,18985,627,22,13,3146,79188,334,512,197,9,17961,79482,25,33810,287,5708,7729,477,3157,18845,627,197,9,67047,18468,25,34387,287,54983,14463,1701,1803,1413,15592,41503,4211,627,23,13,3146,40234,334,512,197,9,19758,1534,6975,6067,25,97554,32789,16627,2262,369,4236,3196,389,872,5178,323,19882,627,197,9,11688,6975,25,32406,21416,4221,6975,7526,430,649,16988,53243,304,264,810,7524,1648,627,24,13,3146,38,6605,334,512,197,9,4140,4500,25,12362,1803,1413,15592,311,7068,1847,12032,11,1778,439,5885,11,5990,11,477,3446,8128,627,197,9,4140,30126,9659,25,97554,1847,30126,11,1093,22027,21787,477,15592,19949,11,369,26569,27120,627,605,13,3146,27414,7972,323,18729,334,512,197,9,9059,9659,25,32406,23387,3674,3772,2262,11,1778,439,6946,11,5448,11,477,1495,8158,627,197,9,9983,3772,27065,6492,25,38527,20994,3674,3772,27065,311,3619,586,9647,922,264,6883,477,2027,382,9673,8522,527,1120,279,7314,11,323,439,1803,1413,15592,9731,311,38680,11,584,649,1755,1524,810,18699,5829,4028,5370,19647,13],\"total_duration\":12699670500,\"load_duration\":94073100,\"prompt_eval_count\":19,\"prompt_eval_duration\":3000000,\"eval_count\":586,\"eval_duration\":12599000000}\n"
     ]
    }
   ],
   "source": [
    "import requests\n",
    "\n",
    "response = requests.post(\"http://localhost:11434/api/generate\", json={\n",
    "    \"model\": \"llama3\",\n",
    "    \"prompt\": \"What are the applications of generative AI?\",\n",
    "    \"stream\": False\n",
    "})\n",
    "# Print full response for debugging\n",
    "print(\"Raw response:\", response.text)"
   ]
  },
  {
   "cell_type": "code",
   "execution_count": null,
   "id": "8537e1b1",
   "metadata": {},
   "outputs": [],
   "source": []
  }
 ],
 "metadata": {
  "kernelspec": {
   "display_name": "Python 3",
   "language": "python",
   "name": "python3"
  },
  "language_info": {
   "codemirror_mode": {
    "name": "ipython",
    "version": 3
   },
   "file_extension": ".py",
   "mimetype": "text/x-python",
   "name": "python",
   "nbconvert_exporter": "python",
   "pygments_lexer": "ipython3",
   "version": "3.12.7"
  }
 },
 "nbformat": 4,
 "nbformat_minor": 5
}
